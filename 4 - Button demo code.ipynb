{
 "cells": [
  {
   "cell_type": "code",
   "execution_count": 1,
   "id": "75038c81-e5c0-41b3-ae0e-d5f07d8c1b95",
   "metadata": {},
   "outputs": [],
   "source": [
    "# copy this code to the top cell of your notebook to be able to\n",
    "# include buttons as in the example below\n",
    "\n",
    "# you may need to run\n",
    "# pip install ipywidgets\n",
    "# pip install jupyter_ui_poll\n",
    "# if running on your own computer\n",
    "\n",
    "import time\n",
    "import ipywidgets as widgets\n",
    "from IPython.display import display, clear_output, HTML\n",
    "from jupyter_ui_poll import ui_events\n",
    "\n",
    "event_info = {\n",
    "    'type': '',\n",
    "    'description': '',\n",
    "    'time': -1\n",
    "}\n",
    "\n",
    "def wait_for_event(timeout=-1, interval=0.001, max_rate=20, allow_interupt=True):    \n",
    "    start_wait = time.time()\n",
    "\n",
    "    # set event info to be empty\n",
    "    # as this is dict we can change entries\n",
    "    # directly without using\n",
    "    # the global keyword\n",
    "    event_info['type'] = \"\"\n",
    "    event_info['description'] = \"\"\n",
    "    event_info['time'] = -1\n",
    "\n",
    "    n_proc = int(max_rate*interval)+1\n",
    "    \n",
    "    with ui_events() as ui_poll:\n",
    "        keep_looping = True\n",
    "        while keep_looping==True:\n",
    "            # process UI events\n",
    "            ui_poll(n_proc)\n",
    "\n",
    "            # end loop if we have waited more than the timeout period\n",
    "            if (timeout != -1) and (time.time() > start_wait + timeout):\n",
    "                keep_looping = False\n",
    "                \n",
    "            # end loop if event has occured\n",
    "            if allow_interupt==True and event_info['description']!=\"\":\n",
    "                keep_looping = False\n",
    "                \n",
    "            # add pause before looping\n",
    "            # to check events again\n",
    "            time.sleep(interval)\n",
    "    \n",
    "    # return event description after wait ends\n",
    "    # will be set to empty string '' if no event occured\n",
    "    return event_info\n",
    "\n",
    "# this function lets buttons \n",
    "# register events when clicked\n",
    "def register_event(btn):\n",
    "    # display button description in output area\n",
    "    event_info['type'] = \"click\"\n",
    "    event_info['description'] = btn.description\n",
    "    event_info['time'] = time.time()\n",
    "    return\n",
    "    "
   ]
  },
  {
   "cell_type": "code",
   "execution_count": 5,
   "id": "88f7d9f3-05ef-45b5-8145-52852a25ec53",
   "metadata": {},
   "outputs": [
    {
     "name": "stdout",
     "output_type": "stream",
     "text": [
      "User did not click in time\n"
     ]
    }
   ],
   "source": [
    "# with the helper code above we can\n",
    "# add buttons \n",
    "# following the example below\n",
    "\n",
    "btn1 = widgets.Button(description=\"Happy\")\n",
    "btn2 = widgets.Button(description=\"Neutral\")\n",
    "btn3 = widgets.Button(description=\"Sad\")\n",
    "    \n",
    "# we need to set up each button\n",
    "# to call the register_event\n",
    "# function when clicked\n",
    "btn1.on_click(register_event) \n",
    "btn2.on_click(register_event) \n",
    "btn3.on_click(register_event) \n",
    "\n",
    "\n",
    "myhtml1 = HTML(\"<h1>How do you feel today?</h1>\")\n",
    "display(myhtml1)\n",
    "myhtml2 = HTML(\"<h2>You have 5 seconds to answer</h2>\")\n",
    "display(myhtml2)\n",
    "\n",
    "#panel = widgets.HBox([btn1, btn2, btn3])\n",
    "#display(panel)\n",
    "display(btn1, btn2, btn3)\n",
    "result = wait_for_event(timeout=2)\n",
    "clear_output()\n",
    "\n",
    "if result['description']!=\"\":\n",
    "    print(f\"User clicked: {result['description']}\")\n",
    "else:\n",
    "    print(\"User did not click in time\")"
   ]
  },
  {
   "cell_type": "code",
   "execution_count": null,
   "id": "dbdc3947-0c70-44a5-94e3-d8637436cf1f",
   "metadata": {},
   "outputs": [],
   "source": []
  },
  {
   "cell_type": "code",
   "execution_count": null,
   "id": "a5c14db4-279f-4ae1-99f3-a6e2f2bf3157",
   "metadata": {},
   "outputs": [],
   "source": []
  },
  {
   "cell_type": "code",
   "execution_count": null,
   "id": "38d32b2d-b72a-453a-a2c1-3d835e055b4e",
   "metadata": {},
   "outputs": [],
   "source": []
  }
 ],
 "metadata": {
  "kernelspec": {
   "display_name": "Python 3 (ipykernel)",
   "language": "python",
   "name": "python3"
  },
  "language_info": {
   "codemirror_mode": {
    "name": "ipython",
    "version": 3
   },
   "file_extension": ".py",
   "mimetype": "text/x-python",
   "name": "python",
   "nbconvert_exporter": "python",
   "pygments_lexer": "ipython3",
   "version": "3.8.17"
  }
 },
 "nbformat": 4,
 "nbformat_minor": 5
}
